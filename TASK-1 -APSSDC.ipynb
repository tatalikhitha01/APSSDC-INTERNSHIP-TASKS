{
 "cells": [
  {
   "cell_type": "markdown",
   "metadata": {},
   "source": [
    "# 1.Write a program to check wheather the user eligible for vote or not"
   ]
  },
  {
   "cell_type": "code",
   "execution_count": 1,
   "metadata": {},
   "outputs": [
    {
     "name": "stdout",
     "output_type": "stream",
     "text": [
      "Enter your age: 15\n",
      "Not Eligible for Voting.\n"
     ]
    }
   ],
   "source": [
    "age = int(input(\"Enter your age: \"))\n",
    "\n",
    "if age>=18:\n",
    "    print(\"Eligible for Voting.\")\n",
    "\n",
    "else:\n",
    "    print(\"Not Eligible for Voting.\")\n"
   ]
  },
  {
   "cell_type": "markdown",
   "metadata": {},
   "source": [
    "# 2.Check the given number is positive or negative"
   ]
  },
  {
   "cell_type": "code",
   "execution_count": 2,
   "metadata": {},
   "outputs": [
    {
     "name": "stdout",
     "output_type": "stream",
     "text": [
      "Enter the Number: 5\n",
      "Number is Positive\n"
     ]
    }
   ],
   "source": [
    "number = int(input(\"Enter the Number: \"))\n",
    "if number>0:\n",
    "    print(\"Number is Positive\")\n",
    "elif number<0:\n",
    "    print(\"Number is Negative\")"
   ]
  },
  {
   "cell_type": "markdown",
   "metadata": {},
   "source": [
    "# 3.Check the given number is even or odd if it's even check which is divisible by 4 or not"
   ]
  },
  {
   "cell_type": "code",
   "execution_count": 3,
   "metadata": {},
   "outputs": [
    {
     "name": "stdout",
     "output_type": "stream",
     "text": [
      "Enter the number: 10\n",
      "Given Number is Even\n",
      "Given Number is even and is not divisible by 4.\n"
     ]
    }
   ],
   "source": [
    "num = int(input(\"Enter the number: \"))\n",
    "if num%2 == 0:\n",
    "    print(\"Given Number is Even\")\n",
    "    if num%4 == 0:\n",
    "        print(\"Given Number is even and is divisible by 4.\")\n",
    "    else:\n",
    "        print(\"Given Number is even and is not divisible by 4.\")\n",
    "else:\n",
    "    print(\"Given Number is Odd\")\n"
   ]
  },
  {
   "cell_type": "markdown",
   "metadata": {},
   "source": [
    "# 4.write a program to print student grade based on persentage like Distinction,pass or fail"
   ]
  },
  {
   "cell_type": "code",
   "execution_count": 4,
   "metadata": {},
   "outputs": [
    {
     "name": "stdout",
     "output_type": "stream",
     "text": [
      "Enter the marks of 1st subject: 90\n",
      "Enter the marks of 2nd subject: 80\n",
      "Enter the marks of 3rd subject: 85\n",
      "The percentage is:  85.0\n",
      "Passed\n"
     ]
    }
   ],
   "source": [
    "m1 = int(input(\"Enter the marks of 1st subject: \"))\n",
    "m2 = int(input(\"Enter the marks of 2nd subject: \"))\n",
    "m3 = int(input(\"Enter the marks of 3rd subject: \"))\n",
    "total = m1+m2+m3\n",
    "avg = total/3.0\n",
    "percentage = (total / 300.0)* 100\n",
    "print(\"The percentage is: \",percentage)\n",
    "if(percentage>=90):\n",
    "    print(\"distinction pass\")\n",
    "elif(percentage>=50):\n",
    "    print(\"Passed\")\n",
    "else:\n",
    "    print(\"Fail\")\n"
   ]
  },
  {
   "cell_type": "markdown",
   "metadata": {},
   "source": [
    "# Check the given year is Leap or not\n"
   ]
  },
  {
   "cell_type": "code",
   "execution_count": 5,
   "metadata": {},
   "outputs": [
    {
     "name": "stdout",
     "output_type": "stream",
     "text": [
      "Enter the year to check!!!2001\n",
      "Not a leap year\n"
     ]
    }
   ],
   "source": [
    "year=int(input(\"Enter the year to check!!!\"))\n",
    "if (year % 4) == 0:\n",
    "   if (year % 100) == 0:\n",
    "       if (year % 400) == 0:\n",
    "           print(\"Given year is a leap year\")\n",
    "       else:\n",
    "           print(\"Not a leap year\")\n",
    "   else:\n",
    "       print(\"Given year is aleap year\")\n",
    "else:\n",
    "   print(\"Not a leap year\")"
   ]
  }
 ],
 "metadata": {
  "kernelspec": {
   "display_name": "Python 3",
   "language": "python",
   "name": "python3"
  },
  "language_info": {
   "codemirror_mode": {
    "name": "ipython",
    "version": 3
   },
   "file_extension": ".py",
   "mimetype": "text/x-python",
   "name": "python",
   "nbconvert_exporter": "python",
   "pygments_lexer": "ipython3",
   "version": "3.7.3"
  }
 },
 "nbformat": 4,
 "nbformat_minor": 2
}
