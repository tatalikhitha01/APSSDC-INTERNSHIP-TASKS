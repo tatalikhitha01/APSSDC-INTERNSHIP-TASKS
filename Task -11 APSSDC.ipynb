{
 "cells": [
  {
   "cell_type": "markdown",
   "metadata": {},
   "source": [
    "## Task:\n",
    "1  - Take a list of years between 1800 to 2030\n",
    "     - Display all the leap years which is divisible by 5"
   ]
  },
  {
   "cell_type": "code",
   "execution_count": 1,
   "metadata": {},
   "outputs": [
    {
     "name": "stdout",
     "output_type": "stream",
     "text": [
      "The leap years between 1800 to 2030 which are divisible by 5 are: \n",
      "[1820, 1840, 1860, 1880, 1920, 1940, 1960, 1980, 2000, 2020]\n"
     ]
    }
   ],
   "source": [
    "print(\"The leap years between 1800 to 2030 which are divisible by 5 are: \")\n",
    "print([yr for yr in range(1800,2030) if (yr % 4 == 0 and yr % 100 != 0 and yr%5 ==0) or (yr % 400 == 0)])"
   ]
  }
 ],
 "metadata": {
  "kernelspec": {
   "display_name": "Python 3",
   "language": "python",
   "name": "python3"
  },
  "language_info": {
   "codemirror_mode": {
    "name": "ipython",
    "version": 3
   },
   "file_extension": ".py",
   "mimetype": "text/x-python",
   "name": "python",
   "nbconvert_exporter": "python",
   "pygments_lexer": "ipython3",
   "version": "3.7.3"
  }
 },
 "nbformat": 4,
 "nbformat_minor": 2
}
