{
 "cells": [
  {
   "cell_type": "markdown",
   "metadata": {},
   "source": [
    "## Tasks:\n",
    "- Write a program for getting the last five lines from the file\n",
    "- Create a function for appending the data into the file\n",
    "- Create a program for updating a word in the file"
   ]
  },
  {
   "cell_type": "markdown",
   "metadata": {},
   "source": [
    "# 1.Write a program for getting the last five lines from the file"
   ]
  },
  {
   "cell_type": "code",
   "execution_count": 21,
   "metadata": {},
   "outputs": [],
   "source": [
    "f = open(\"Day_11.txt\",'w')\n",
    "\n",
    "f.write(\"first line of code. \\n\")\n",
    "f.write(\"second line of code. \\n\")\n",
    "f.write(\"Third line of code. \\n\")\n",
    "f.write(\"Fourth line of code. \\n\")\n",
    "f.write(\"Fivth line of code. \\n\")\n",
    "f.write(\"Sixth line of code. \\n\")\n",
    "f.write(\"Seventh line of code. \\n\")\n",
    "f.write(\"Eighth line of code. \\n\")\n",
    "f.write(\"Nineth line of code. \\n\")\n",
    "f.write(\"Tenth line of code. \\n\")\n",
    "f.close()\n",
    "\n",
    "\n"
   ]
  },
  {
   "cell_type": "code",
   "execution_count": 24,
   "metadata": {},
   "outputs": [
    {
     "name": "stdout",
     "output_type": "stream",
     "text": [
      "first line of code. \n",
      "second line of code. \n",
      "Third line of code. \n",
      "Fourth line of code. \n",
      "Fivth line of code. \n",
      "Sixth line of code. \n",
      "Seventh line of code. \n",
      "Eighth line of code. \n",
      "Nineth line of code. \n",
      "Tenth line of code. \n",
      "\n"
     ]
    }
   ],
   "source": [
    "f = open(\"Day_11.txt\",'r')\n",
    "\n",
    "print(f.read())"
   ]
  },
  {
   "cell_type": "code",
   "execution_count": 11,
   "metadata": {},
   "outputs": [
    {
     "name": "stdout",
     "output_type": "stream",
     "text": [
      "Sixth line of code. \n",
      "\n",
      "Seventh line of code. \n",
      "\n",
      "Eighth line of code. \n",
      "\n",
      "Nineth line of code. \n",
      "\n",
      "Tenth line of code. \n",
      "\n"
     ]
    }
   ],
   "source": [
    "f = open(\"Day_11.txt\",'r')\n",
    "for i in (f.readlines()[-5:]):\n",
    "    print(i)"
   ]
  },
  {
   "cell_type": "markdown",
   "metadata": {},
   "source": [
    "# 2.Create a function for appending the data into the file"
   ]
  },
  {
   "cell_type": "code",
   "execution_count": 31,
   "metadata": {},
   "outputs": [],
   "source": [
    "def append_file(path):\n",
    "    with open(path,\"a\") as f:\n",
    "        data = f.write(\"Eleventh line of code.\")\n",
    "append_file(\"Day_11.txt\")"
   ]
  },
  {
   "cell_type": "code",
   "execution_count": 32,
   "metadata": {},
   "outputs": [
    {
     "name": "stdout",
     "output_type": "stream",
     "text": [
      "first line of code. \n",
      "second line of code. \n",
      "Third line of code. \n",
      "Fourth line of code. \n",
      "Fivth line of code. \n",
      "Sixth line of code. \n",
      "Seventh line of code. \n",
      "Eighth line of code. \n",
      "Nineth line of code. \n",
      "Evening line of code. \n",
      "Eleventh line of code.\n"
     ]
    }
   ],
   "source": [
    "f = open('Day_11.txt')\n",
    "\n",
    "print(f.read())"
   ]
  },
  {
   "cell_type": "markdown",
   "metadata": {},
   "source": [
    "# 3.Create a program for updating a word in the file"
   ]
  },
  {
   "cell_type": "code",
   "execution_count": 33,
   "metadata": {},
   "outputs": [],
   "source": [
    "f = open(\"Day11_2.txt\",\"w\")\n",
    "f1 = f.write(\"Hi..... \\n\")\n",
    "f.close()"
   ]
  },
  {
   "cell_type": "code",
   "execution_count": 35,
   "metadata": {},
   "outputs": [],
   "source": [
    "f = open(\"Day11_2.txt\",\"a\")\n",
    "f1 = f.write(\"Good...Afternoon....World \\n\")\n",
    "f.close()"
   ]
  },
  {
   "cell_type": "code",
   "execution_count": 36,
   "metadata": {},
   "outputs": [
    {
     "name": "stdout",
     "output_type": "stream",
     "text": [
      "Hi..... \n",
      "Good...Afternoon....World \n",
      "\n"
     ]
    }
   ],
   "source": [
    "f = open(\"Day11_2.txt\",\"r\")\n",
    "print(f.read())"
   ]
  },
  {
   "cell_type": "code",
   "execution_count": 39,
   "metadata": {},
   "outputs": [],
   "source": [
    "f.close()"
   ]
  },
  {
   "cell_type": "code",
   "execution_count": 40,
   "metadata": {},
   "outputs": [
    {
     "name": "stdout",
     "output_type": "stream",
     "text": [
      "Hi..... \n",
      "Good...Afternoon....APSSDC \n",
      "\n",
      "\n"
     ]
    }
   ],
   "source": [
    "import re\n",
    "with open( 'Day11_2.txt',\"r+\") as f:\n",
    "          text = f.read( )\n",
    "          text = re.sub( \"World\", \"APSSDC\", text)\n",
    "          f.seek(0)\n",
    "          f.write(text)\n",
    "          f.truncate( )\n",
    "f = open(\"Day11_2.txt\")\n",
    "print (f.read( ))\n"
   ]
  },
  {
   "cell_type": "code",
   "execution_count": 41,
   "metadata": {},
   "outputs": [],
   "source": [
    "f.close()"
   ]
  }
 ],
 "metadata": {
  "kernelspec": {
   "display_name": "Python 3",
   "language": "python",
   "name": "python3"
  },
  "language_info": {
   "codemirror_mode": {
    "name": "ipython",
    "version": 3
   },
   "file_extension": ".py",
   "mimetype": "text/x-python",
   "name": "python",
   "nbconvert_exporter": "python",
   "pygments_lexer": "ipython3",
   "version": "3.7.3"
  }
 },
 "nbformat": 4,
 "nbformat_minor": 2
}
