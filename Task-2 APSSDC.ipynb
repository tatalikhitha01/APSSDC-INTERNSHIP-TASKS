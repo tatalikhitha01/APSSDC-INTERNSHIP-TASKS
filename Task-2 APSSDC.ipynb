{
 "cells": [
  {
   "cell_type": "markdown",
   "metadata": {},
   "source": [
    "# Task-2"
   ]
  },
  {
   "cell_type": "markdown",
   "metadata": {},
   "source": [
    "\n",
    "#### 1.Take last 3 values of roll number(AP19110010421)\n",
    "-  if value is startswith \"01\" --> 'Cse Dept'\n",
    "- elif value is starts with '11' --> 'IT Dept'\n",
    "- elif value is startswith \"21\" --> 'ECE Dept'\n",
    "- else not an SRM student"
   ]
  },
  {
   "cell_type": "code",
   "execution_count": 1,
   "metadata": {},
   "outputs": [
    {
     "name": "stdout",
     "output_type": "stream",
     "text": [
      "Enter the roll: AP19110010001\n",
      "Not an SRM Student\n"
     ]
    }
   ],
   "source": [
    "string_1 =  input(\"Enter the roll: \")\n",
    "if  string_1[-3:].startswith('01'):\n",
    "    print(\"CSE Dept\")\n",
    "elif string_1[-3:].startswith('11'):\n",
    "    print(\"IT DEPT\")\n",
    "elif string_1[-3:].startswith('21'):\n",
    "    print(\"ECE DEPT\")\n",
    "else:\n",
    "    print(\"Not an SRM Student\")"
   ]
  },
  {
   "cell_type": "markdown",
   "metadata": {},
   "source": [
    "# 2.Find all leap years between 1800 to 2020"
   ]
  },
  {
   "cell_type": "code",
   "execution_count": 4,
   "metadata": {},
   "outputs": [
    {
     "name": "stdout",
     "output_type": "stream",
     "text": [
      "1804\t1808\t1812\t1816\t1820\t1824\t1828\t1832\t1836\t1840\t1844\t1848\t1852\t1856\t1860\t1864\t1868\t1872\t1876\t1880\t1884\t1888\t1892\t1896\t1904\t1908\t1912\t1916\t1920\t1924\t1928\t1932\t1936\t1940\t1944\t1948\t1952\t1956\t1960\t1964\t1968\t1972\t1976\t1980\t1984\t1988\t1992\t1996\t2000\t2004\t2008\t2012\t2016\t2020\t"
     ]
    }
   ],
   "source": [
    "for yr in range(1800,2021):\n",
    "    if (yr % 4 == 0 and yr % 100 != 0) or (yr % 400 == 0):\n",
    "        print(yr,end = '\\t')"
   ]
  }
 ],
 "metadata": {
  "kernelspec": {
   "display_name": "Python 3",
   "language": "python",
   "name": "python3"
  },
  "language_info": {
   "codemirror_mode": {
    "name": "ipython",
    "version": 3
   },
   "file_extension": ".py",
   "mimetype": "text/x-python",
   "name": "python",
   "nbconvert_exporter": "python",
   "pygments_lexer": "ipython3",
   "version": "3.7.3"
  }
 },
 "nbformat": 4,
 "nbformat_minor": 2
}
