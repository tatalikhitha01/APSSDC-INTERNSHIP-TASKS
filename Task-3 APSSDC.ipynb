{
 "cells": [
  {
   "cell_type": "markdown",
   "metadata": {},
   "source": [
    "# Task\n",
    "- take input from the user.\n",
    "- check the length of the string even or odd\n",
    "- if the string length is odd access one middle character\n",
    "- if the string length is even access two middle character"
   ]
  },
  {
   "cell_type": "code",
   "execution_count": 6,
   "metadata": {},
   "outputs": [
    {
     "name": "stdout",
     "output_type": "stream",
     "text": [
      "Enter the string: Likhitha\n",
      "h i\n"
     ]
    }
   ],
   "source": [
    "s1 = input(\"Enter the string: \")\n",
    "if len(s1)%2 == 0:\n",
    "    print((s1[len(s1)//2 - 1]),(s1[len(s1)//2]))\n",
    "else:\n",
    "    print(s1[len(s1)//2])"
   ]
  },
  {
   "cell_type": "code",
   "execution_count": 7,
   "metadata": {},
   "outputs": [
    {
     "name": "stdout",
     "output_type": "stream",
     "text": [
      "Enter the string: Likhi\n",
      "k\n"
     ]
    }
   ],
   "source": [
    "s1 = input(\"Enter the string: \")\n",
    "if len(s1)%2 == 0:\n",
    "    print((s1[len(s1)//2 - 1]),(s1[len(s1)//2]))\n",
    "else:\n",
    "    print(s1[len(s1)//2])"
   ]
  }
 ],
 "metadata": {
  "kernelspec": {
   "display_name": "Python 3",
   "language": "python",
   "name": "python3"
  },
  "language_info": {
   "codemirror_mode": {
    "name": "ipython",
    "version": 3
   },
   "file_extension": ".py",
   "mimetype": "text/x-python",
   "name": "python",
   "nbconvert_exporter": "python",
   "pygments_lexer": "ipython3",
   "version": "3.7.3"
  }
 },
 "nbformat": 4,
 "nbformat_minor": 2
}
