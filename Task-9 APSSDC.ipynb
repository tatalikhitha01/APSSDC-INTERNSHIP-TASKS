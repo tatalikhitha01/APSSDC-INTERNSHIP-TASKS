{
 "cells": [
  {
   "cell_type": "markdown",
   "metadata": {},
   "source": [
    "# Task:\n",
    "- Generate 3-Digit OTP from 2 different Classes (Mail class and Phone Class)\n",
    "- return 6digit OTP from Baseclasses(super classes)"
   ]
  },
  {
   "cell_type": "code",
   "execution_count": 13,
   "metadata": {},
   "outputs": [],
   "source": [
    "import random \n",
    "class Mail():\n",
    "    def __init__(self):\n",
    "        self.l1 = random.randint(100,999)\n",
    "        print(self.l1)\n",
    "class Phone():\n",
    "    def __init__(self):\n",
    "        self.l2 = random.randint(100,999)\n",
    "        print(self.l2)\n",
    "class Base():\n",
    "    def __init__(self):\n",
    "        Mail.__init__(self)\n",
    "        Phone.__init__(self)\n",
    "        print(\"The OTP is  \",str(self.l1)+str(self.l2))\n",
    "        "
   ]
  },
  {
   "cell_type": "code",
   "execution_count": 22,
   "metadata": {},
   "outputs": [
    {
     "name": "stdout",
     "output_type": "stream",
     "text": [
      "781\n",
      "633\n",
      "The OTP is   781633\n"
     ]
    }
   ],
   "source": [
    "obj = Base()"
   ]
  }
 ],
 "metadata": {
  "kernelspec": {
   "display_name": "Python 3",
   "language": "python",
   "name": "python3"
  },
  "language_info": {
   "codemirror_mode": {
    "name": "ipython",
    "version": 3
   },
   "file_extension": ".py",
   "mimetype": "text/x-python",
   "name": "python",
   "nbconvert_exporter": "python",
   "pygments_lexer": "ipython3",
   "version": "3.7.3"
  }
 },
 "nbformat": 4,
 "nbformat_minor": 2
}
